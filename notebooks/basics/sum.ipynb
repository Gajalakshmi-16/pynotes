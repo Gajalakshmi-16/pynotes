{
 "cells": [
  {
   "cell_type": "code",
   "execution_count": null,
   "id": "9c2366a3-67c8-4b75-9bb1-63cf2ab7c060",
   "metadata": {},
   "outputs": [],
   "source": [
    "a=30"
   ]
  },
  {
   "cell_type": "code",
   "execution_count": null,
   "id": "6cd5cbb7-ce81-447c-a3ea-14e51fd0f349",
   "metadata": {},
   "outputs": [],
   "source": [
    "b=10"
   ]
  },
  {
   "cell_type": "code",
   "execution_count": null,
   "id": "24e9f537-f7b7-47bb-a015-d72aaf5485bd",
   "metadata": {},
   "outputs": [],
   "source": [
    "print(a+b)"
   ]
  }
 ],
 "metadata": {
  "kernelspec": {
   "display_name": "Python 3 (ipykernel)",
   "language": "python",
   "name": "python3"
  },
  "language_info": {
   "codemirror_mode": {
    "name": "ipython",
    "version": 3
   },
   "file_extension": ".py",
   "mimetype": "text/x-python",
   "name": "python",
   "nbconvert_exporter": "python",
   "pygments_lexer": "ipython3",
   "version": "3.11.5"
  }
 },
 "nbformat": 4,
 "nbformat_minor": 5
}
